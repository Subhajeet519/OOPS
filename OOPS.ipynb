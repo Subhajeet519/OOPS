{
  "nbformat": 4,
  "nbformat_minor": 0,
  "metadata": {
    "colab": {
      "provenance": []
    },
    "kernelspec": {
      "name": "python3",
      "display_name": "Python 3"
    },
    "language_info": {
      "name": "python"
    }
  },
  "cells": [
    {
      "cell_type": "markdown",
      "source": [
        "1. What is Object-Oriented Programming (OOP)?\n",
        "-> OOP is a programming paradigm based on the concept of 'objects', which contain data and methods. It\n",
        "promotes modularity, reuse, and organization.\n",
        "2. What is a class in OOP?\n",
        "-> A class is a blueprint for creating objects. It defines attributes and behaviors.\n",
        "3. What is an object in OOP?\n",
        "-> An object is an instance of a class with actual values assigned to its attributes.\n",
        "4. What is the difference between abstraction and encapsulation?\n",
        "-> Abstraction hides complexity; encapsulation hides data. Abstraction focuses on what; encapsulation focuses on how.\n",
        "5. What are dunder methods in Python?\n",
        "-> Dunder methods (like __init__, __str__) are special methods with double underscores used to define behavior of objects.\n",
        "6. Explain the concept of inheritance in OOP.\n",
        "->Inheritance allows one class to acquire properties and behaviors of another class, promoting code reuse.\n",
        "7. What is polymorphism in OOP?\n",
        "-> Polymorphism allows different classes to be treated as instances of the same parent class.\n",
        "8. How is encapsulation achieved in Python?\n",
        "-> By defining private attributes (using _ or __) and providing access through getter/setter methods.\n",
        "9. What is a constructor in Python?\n",
        "-> A constructor is a special method __init__() used to initialize objects.\n",
        "10. What are class and static methods in Python?\n",
        "-> classmethod takes cls as parameter and accesses class attributes. staticmethod doesn't take self or cls.\n",
        "11. What is method overloading in Python?\n",
        "-> Python does not support true method overloading; can be mimicked using default arguments.\n",
        "12. What is method overriding in OOP?\n",
        "-> Subclass provides a specific implementation of a method already defined in its superclass.\n",
        "13. What is a property decorator in Python?\n",
        "-> property allows a method to be accessed like an attribute.\n",
        "14. Why is polymorphism important in OOP?\n",
        "-> It enables functions and methods to use objects of different types interchangeably.\n",
        "15. What is an abstract class in Python?\n",
        "-> Defined using abc module; it cannot be instantiated and may contain abstract methods.\n",
        "16. What are the advantages of OOP?\n",
        "-> Code reuse, modularity, scalability, and ease of maintenance.\n",
        "17. What is the difference between a class variable and an instance variable?\n",
        "-> Class variable is shared across all instances. Instance variable is unique to each object.\n",
        "18. What is multiple inheritance in Python?\n",
        "-> A class inheriting from more than one parent class.\n",
        "19. Explain the purpose of '__str__' and '__repr__' methods in Python.\n",
        "-> \"__str__\" returns a readable string; \"__repr__\" returns a developer-friendly representation.\n",
        "20. What is the significance of the 'super()' function in Python?\n",
        "-> Used to call a method from the parent class.\n",
        "21. What is the significance of the __del__ method in Python?\n",
        "-> Destructor method called when an object is about to be destroyed.\n",
        "22. What is the difference between @staticmethod and @classmethod in Python?\n",
        "-> staticmethod doesn't access class or instance. @classmethod accesses class-level data.\n",
        "23. How does polymorphism work in Python with inheritance?\n",
        "-> Child classes override parent methods, and can be used wherever the parent type is expected.\n",
        "24. What is method chaining in Python OOP?\n",
        "-> Method chaining in Python Object-Oriented Programming (OOP) is a technique that enables the sequential invocation of multiple methods on the same object within a single statement. This is achieved by having each method in the chain return the object itself (or a modified version of it), allowing subsequent methods to operate on the returned object.\n",
        "25. What is the purpose of the __call__ method in Python?\n",
        "-> The __call__ method in Python serves the purpose of making instances of a class callable, meaning they can be invoked like functions.\n"
      ],
      "metadata": {
        "id": "JotighMOXCXX"
      }
    },
    {
      "cell_type": "code",
      "source": [
        "#1.Inheritance and Method Overriding\n",
        "class Animal:\n",
        "    def speak(self):\n",
        "        print(\"Animal speaks\")\n",
        "class Dog(Animal):\n",
        "    def speak(self):\n",
        "        print(\"Bark!\")"
      ],
      "metadata": {
        "id": "IH4Y0Hg8ZvvQ"
      },
      "execution_count": 3,
      "outputs": []
    },
    {
      "cell_type": "code",
      "source": [
        "#2. Write a program to create an abstract class Shape with a method area(). Derive classes Circle and Rectangle from it and implement the area() method in both.\n",
        "class Shape:\n",
        "    def area(self):\n",
        "        pass\n",
        "class Circle(Shape):\n",
        "    def __init__(self, radius):\n",
        "        self.radius = radius\n",
        "    def area(self):\n",
        "        return 3.14 * self.radius * self.radius\n",
        "class Rectangle(Shape):\n",
        "    def __init__(self, length, width):\n",
        "        self.length = length\n",
        "        self.width = width\n",
        "    def area(self):\n",
        "        return self.length * self.width\n",
        "        print(Circle(5).area())\n",
        "        print(Rectangle(4, 6).area())"
      ],
      "metadata": {
        "id": "HK2OW3TkaLTL"
      },
      "execution_count": 53,
      "outputs": []
    },
    {
      "cell_type": "code",
      "source": [
        "#3.  Implement a multi-level inheritance scenario where a class Vehicle has an attribute type. Derive a class Car and further derive a class ElectricCar that adds a battery attribute.\n",
        "class Vehicle:\n",
        "    def __init__(self, type):\n",
        "        self.type = type\n",
        "class Car(Vehicle):\n",
        "    def __init__(self, type, model):\n",
        "        super().__init__(type)\n",
        "        self.model = model\n",
        "class ElectricCar(Car):\n",
        "    def __init__(self, type, model, battery):\n",
        "        super().__init__(type, model)\n",
        "        self.battery = battery\n",
        "my_tesla = ElectricCar(\"Electric\", \"Model 3\", \"75 kWh\")\n",
        "print(my_tesla.type, my_tesla.model, my_tesla.battery)"
      ],
      "metadata": {
        "colab": {
          "base_uri": "https://localhost:8080/"
        },
        "id": "3bQKJZ5UatSj",
        "outputId": "4cf46c6a-6145-4d15-c2ab-4f9c4e31c072"
      },
      "execution_count": 11,
      "outputs": [
        {
          "output_type": "stream",
          "name": "stdout",
          "text": [
            "Electric Model 3 75 kWh\n"
          ]
        }
      ]
    },
    {
      "cell_type": "code",
      "source": [
        "#4. Demonstrate polymorphism by creating a base class Bird with a method fly(). Create two derived classes Sparrow and Penguin that override the fly() method.\n",
        "class Bird:\n",
        "    def fly(self):\n",
        "        print(\"Bird is flying\")\n",
        "class Sparrow(Bird):\n",
        "    def fly(self):\n",
        "        print(\"Sparrow flies fast\")\n",
        "class Penguin(Bird):\n",
        "    def fly(self):\n",
        "        print(\"Penguins can't fly\")\n",
        "for bird in [Sparrow(), Penguin()]:\n",
        "    bird.fly()"
      ],
      "metadata": {
        "colab": {
          "base_uri": "https://localhost:8080/"
        },
        "id": "KaD656SEbiK3",
        "outputId": "8005a5f8-dc56-4539-dc0e-524f7944ebb5"
      },
      "execution_count": 14,
      "outputs": [
        {
          "output_type": "stream",
          "name": "stdout",
          "text": [
            "Sparrow flies fast\n",
            "Penguins can't fly\n"
          ]
        }
      ]
    },
    {
      "cell_type": "code",
      "source": [
        "#5. Write a program to demonstrate encapsulation by creating a class BankAccount with private attributes balance and methods to deposit, withdraw, and check balance.\n",
        "class BankAccount:\n",
        "    def __init__(self):\n",
        "        self.__balance = 0\n",
        "    def deposit(self, amount):\n",
        "        self.__balance += amount\n",
        "    def withdraw(self, amount):\n",
        "        if amount <= self.__balance:\n",
        "            self.__balance -= amount\n",
        "    def get_balance(self):\n",
        "        return self.__balance\n",
        "acc = BankAccount()\n",
        "acc.deposit(500)\n",
        "acc.withdraw(200)\n",
        "print(acc.get_balance())"
      ],
      "metadata": {
        "colab": {
          "base_uri": "https://localhost:8080/"
        },
        "id": "pmIvtxkOb007",
        "outputId": "fe3d21a5-eead-47eb-8846-822e37bc9c08"
      },
      "execution_count": 17,
      "outputs": [
        {
          "output_type": "stream",
          "name": "stdout",
          "text": [
            "300\n"
          ]
        }
      ]
    },
    {
      "cell_type": "code",
      "source": [
        "#6. Demonstrate runtime polymorphism using a method play() in a base class Instrument. Derive classes Guitar and Piano that implement their own version of play().\n",
        "class Instrument:\n",
        "    def play(self):\n",
        "        print(\"Playing instrument\")\n",
        "class Guitar(Instrument):\n",
        "    def play(self):\n",
        "        print(\"Strumming guitar\")\n",
        "class Piano(Instrument):\n",
        "    def play(self):\n",
        "        print(\"Playing piano\")\n",
        "for inst in [Guitar(), Piano()]:\n",
        "    inst.play()"
      ],
      "metadata": {
        "colab": {
          "base_uri": "https://localhost:8080/"
        },
        "id": "p2WnhwjEcE3G",
        "outputId": "14459ed7-2616-4dc9-8334-ab1c48e9eb10"
      },
      "execution_count": 22,
      "outputs": [
        {
          "output_type": "stream",
          "name": "stdout",
          "text": [
            "Strumming guitar\n",
            "Playing piano\n"
          ]
        }
      ]
    },
    {
      "cell_type": "code",
      "source": [
        "#7. Create a class MathOperations with a class method add_numbers() to add two numbers and a static method subtract_numbers() to subtract two numbers.\n",
        "class MathOperations:\n",
        " @classmethod\n",
        " def add_numbers(cls, a, b):\n",
        "  return a + b\n",
        " @staticmethod\n",
        " def subtract_numbers(a, b):\n",
        "  return a - b\n",
        "print(MathOperations.add_numbers(5, 3))\n",
        "print(MathOperations.subtract_numbers(9, 4))"
      ],
      "metadata": {
        "colab": {
          "base_uri": "https://localhost:8080/"
        },
        "id": "LS8zFRg-cSPl",
        "outputId": "ccf6db3d-da06-4559-b4f1-652c24aa4c25"
      },
      "execution_count": 25,
      "outputs": [
        {
          "output_type": "stream",
          "name": "stdout",
          "text": [
            "8\n",
            "5\n"
          ]
        }
      ]
    },
    {
      "cell_type": "code",
      "source": [
        "#8. Implement a class Person with a class method to count the total number of persons created.\n",
        "class Person:\n",
        "    count = 0\n",
        "    def __init__(self):\n",
        "        Person.count += 1\n",
        "    @classmethod\n",
        "    def get_count(cls):\n",
        "        return cls.count\n",
        "Person()\n",
        "Person()\n",
        "print(Person.get_count())"
      ],
      "metadata": {
        "colab": {
          "base_uri": "https://localhost:8080/"
        },
        "id": "vwqjvVzrcmHI",
        "outputId": "702a3ca9-0788-40c1-b8bc-bc62f94c8f65"
      },
      "execution_count": 28,
      "outputs": [
        {
          "output_type": "stream",
          "name": "stdout",
          "text": [
            "2\n"
          ]
        }
      ]
    },
    {
      "cell_type": "code",
      "source": [
        "#9. Write a class Fraction with attributes numerator and denominator. Override the str method to display the fraction as \"numerator/denominator\".\n",
        "class Fraction:\n",
        " def __init__(self, numerator, denominator):\n",
        "  self.numerator = numerator\n",
        "  self.denominator = denominator\n",
        " def __str__(self):\n",
        "  return f\"{self.numerator}/{self.denominator}\"\n",
        "print(Fraction(3, 4))"
      ],
      "metadata": {
        "colab": {
          "base_uri": "https://localhost:8080/"
        },
        "id": "hJFnVFuBcwHy",
        "outputId": "1042e9f0-0bdb-4005-fd81-b3018139e42c"
      },
      "execution_count": 30,
      "outputs": [
        {
          "output_type": "stream",
          "name": "stdout",
          "text": [
            "3/4\n"
          ]
        }
      ]
    },
    {
      "cell_type": "code",
      "source": [
        "#10. Demonstrate operator overloading by creating a class Vector and overriding the add method to add two vectors.\n",
        "class Vector:\n",
        "    def __init__(self, x, y):\n",
        "        self.x = x\n",
        "        self.y = y\n",
        "    def __add__(self, other):\n",
        "        return Vector(self.x + other.x, self.y + other.y)\n",
        "    def __str__(self):\n",
        "        return f\"({self.x}, {self.y})\"\n",
        "v1 = Vector(1, 2)\n",
        "v2 = Vector(3, 4)\n",
        "print(v1 + v2)"
      ],
      "metadata": {
        "colab": {
          "base_uri": "https://localhost:8080/"
        },
        "id": "nGh4lrGuc6A8",
        "outputId": "45242071-2edc-4405-ac2e-1ac2bec2549f"
      },
      "execution_count": 33,
      "outputs": [
        {
          "output_type": "stream",
          "name": "stdout",
          "text": [
            "(4, 6)\n"
          ]
        }
      ]
    },
    {
      "cell_type": "code",
      "source": [
        "#11.  Create a class Person with attributes name and age. Add a method greet() that prints \"Hello, my name is {name} and I am {age} years old\n",
        "class Person:\n",
        "    def __init__(self, name, age):\n",
        "        self.name = name\n",
        "        self.age = age\n",
        "\n",
        "    def greet(self):\n",
        "        print(f\"Hello, my name is {self.name} and I am {self.age} years old.\")\n",
        "\n",
        "# Example usage:\n",
        "person1 = Person(\"Subhajeet\", 25)\n",
        "person1.greet()"
      ],
      "metadata": {
        "colab": {
          "base_uri": "https://localhost:8080/"
        },
        "id": "p_lQ30yMdLQI",
        "outputId": "cec89b31-247e-4009-d7ec-c2fe782ab0d6"
      },
      "execution_count": 35,
      "outputs": [
        {
          "output_type": "stream",
          "name": "stdout",
          "text": [
            "Hello, my name is Subhajeet and I am 25 years old.\n"
          ]
        }
      ]
    },
    {
      "cell_type": "code",
      "source": [
        "#12.  Implement a class Student with attributes name and grades. Create a method average_grade() to compute the average of the grades.\n",
        "class Student:\n",
        "    def __init__(self, name, grades):\n",
        "        self.name = name\n",
        "        self.grades = grades  # Expecting a list of numbers\n",
        "\n",
        "    def average_grade(self):\n",
        "        if not self.grades:\n",
        "            return 0\n",
        "        return sum(self.grades) / len(self.grades)\n",
        "\n",
        "# Example usage:\n",
        "student1 = Student(\"Ananya\", [85, 90, 78, 92])\n",
        "print(f\"{student1.name}'s average grade is: {student1.average_grade():.2f}\")"
      ],
      "metadata": {
        "colab": {
          "base_uri": "https://localhost:8080/"
        },
        "id": "Jy1u-6SVeEhW",
        "outputId": "593d0667-d7ee-423b-a741-f5f747111ab1"
      },
      "execution_count": 37,
      "outputs": [
        {
          "output_type": "stream",
          "name": "stdout",
          "text": [
            "Ananya's average grade is: 86.25\n"
          ]
        }
      ]
    },
    {
      "cell_type": "code",
      "source": [
        "#13.  Create a class Rectangle with methods set_dimensions() to set the dimensions and area() to calculate the area.\n",
        "class Rectangle:\n",
        "    def set_dimensions(self, length, width):\n",
        "        self.length = length\n",
        "        self.width = width\n",
        "\n",
        "    def area(self):\n",
        "        return self.length * self.width\n",
        "rect = Rectangle()\n",
        "rect.set_dimensions(5, 4)\n",
        "print(\"Area of rectangle:\", rect.area())\n"
      ],
      "metadata": {
        "colab": {
          "base_uri": "https://localhost:8080/"
        },
        "id": "SpkkQcYtfvOo",
        "outputId": "1c8f2ec3-c450-4358-c7a1-c5db38b8c809"
      },
      "execution_count": 39,
      "outputs": [
        {
          "output_type": "stream",
          "name": "stdout",
          "text": [
            "Area of rectangle: 20\n"
          ]
        }
      ]
    },
    {
      "cell_type": "code",
      "source": [
        "#14. Create a class Employee with a method calculate_salary() that computes the salary based on hours worked and hourly rate. Create a derived class Manager that adds a bonus to the salar.\n",
        "class Employee:\n",
        "    def __init__(self, hours_worked, hourly_rate):\n",
        "        self.hours_worked = hours_worked\n",
        "        self.hourly_rate = hourly_rate\n",
        "\n",
        "    def calculate_salary(self):\n",
        "        return self.hours_worked * self.hourly_rate\n",
        "\n",
        "class Manager(Employee):\n",
        "    def __init__(self, hours_worked, hourly_rate, bonus):\n",
        "        super().__init__(hours_worked, hourly_rate)\n",
        "        self.bonus = bonus\n",
        "\n",
        "    def calculate_salary(self):\n",
        "        base_salary = super().calculate_salary()\n",
        "        return base_salary + self.bonus\n",
        "\n",
        "# Example usage:\n",
        "emp = Employee(40, 200)\n",
        "mgr = Manager(40, 200, 5000)\n",
        "\n",
        "print(\"Employee salary:\", emp.calculate_salary())  # Output: 8000\n",
        "print(\"Manager salary:\", mgr.calculate_salary())    # Output: 13000\n"
      ],
      "metadata": {
        "colab": {
          "base_uri": "https://localhost:8080/"
        },
        "id": "C7kqpcTNgBXL",
        "outputId": "39f81ded-2725-4c11-aee0-a9b0060f7b74"
      },
      "execution_count": 44,
      "outputs": [
        {
          "output_type": "stream",
          "name": "stdout",
          "text": [
            "Employee salary: 8000\n",
            "Manager salary: 13000\n"
          ]
        }
      ]
    },
    {
      "cell_type": "code",
      "source": [
        "#15.  Create a class Product with attributes name, price, and quantity. Implement a method total_price() that calculates the total price of the product.\n",
        "\n",
        "class Product:\n",
        "    def __init__(self, name, price, quantity):\n",
        "        self.name = name\n",
        "        self.price = price\n",
        "        self.quantity = quantity\n",
        "\n",
        "    def total_price(self):\n",
        "        return self.price * self.quantity\n",
        "\n",
        "# Example usage:\n",
        "item = Product(\"Smartphone\", 15000, 2)\n",
        "print(\"Total price:\", item.total_price())"
      ],
      "metadata": {
        "colab": {
          "base_uri": "https://localhost:8080/"
        },
        "id": "y77Bl0EogNCr",
        "outputId": "845b4f2f-7a82-4f30-cd23-dfc00242fc19"
      },
      "execution_count": 45,
      "outputs": [
        {
          "output_type": "stream",
          "name": "stdout",
          "text": [
            "Total price: 30000\n"
          ]
        }
      ]
    },
    {
      "cell_type": "code",
      "source": [
        "#16.  Create a class Animal with an abstract method sound(). Create two derived classes Cow and Sheep that implement the sound() method.\n",
        "from abc import ABC, abstractmethod\n",
        "\n",
        "class Animal(ABC):\n",
        "    @abstractmethod\n",
        "    def sound(self):\n",
        "        pass\n",
        "\n",
        "class Cow(Animal):\n",
        "    def sound(self):\n",
        "        print(\"Moo\")\n",
        "\n",
        "class Sheep(Animal):\n",
        "    def sound(self):\n",
        "        print(\"Baa\")\n",
        "c = Cow()\n",
        "s = Sheep()\n",
        "c.sound()\n",
        "s.sound()\n"
      ],
      "metadata": {
        "colab": {
          "base_uri": "https://localhost:8080/"
        },
        "id": "v8XPiiP9gQ91",
        "outputId": "9ca1b7b6-a803-4f16-9501-b578813d56d3"
      },
      "execution_count": 49,
      "outputs": [
        {
          "output_type": "stream",
          "name": "stdout",
          "text": [
            "Moo\n",
            "Baa\n"
          ]
        }
      ]
    },
    {
      "cell_type": "code",
      "source": [
        "class Book:\n",
        "    def __init__(self, title, author, year_published):\n",
        "        self.title = title\n",
        "        self.author = author\n",
        "        self.year_published = year_published\n",
        "\n",
        "    def get_book_info(self):\n",
        "        return f\"'{self.title}' by {self.author} ({self.year_published})\"\n",
        "book1 = Book(\"Gitanjali\", \"Rabindranath Tagore\", 1910)\n",
        "print(book1.get_book_info())\n"
      ],
      "metadata": {
        "colab": {
          "base_uri": "https://localhost:8080/"
        },
        "id": "DReOoDF-gXXn",
        "outputId": "4d0e1d7b-9e02-4d71-8ac6-a3cc20d6aee4"
      },
      "execution_count": 52,
      "outputs": [
        {
          "output_type": "stream",
          "name": "stdout",
          "text": [
            "'Gitanjali' by Rabindranath Tagore (1910)\n"
          ]
        }
      ]
    },
    {
      "cell_type": "code",
      "source": [
        "#18. Create a class House with attributes address and price. Create a derived class Mansion that adds an attribute number_of_rooms.\n",
        "class House:\n",
        "    def __init__(self, address, price):\n",
        "        self.address = address\n",
        "        self.price = price\n",
        "\n",
        "class Mansion(House):\n",
        "    def __init__(self, address, price, number_of_rooms):\n",
        "        super().__init__(address, price)\n",
        "        self.number_of_rooms = number_of_rooms\n",
        "m1 = Mansion(\"Park Street\", 25000000, 10)\n",
        "print(\"Address:\", m1.address)\n",
        "print(\"Price:\", m1.price)\n",
        "print(\"Number of rooms:\", m1.number_of_rooms)\n"
      ],
      "metadata": {
        "colab": {
          "base_uri": "https://localhost:8080/"
        },
        "id": "eEjk1yGqgboc",
        "outputId": "985d514a-c647-431f-f9de-f62a627637f1"
      },
      "execution_count": 51,
      "outputs": [
        {
          "output_type": "stream",
          "name": "stdout",
          "text": [
            "Address: Park Street\n",
            "Price: 25000000\n",
            "Number of rooms: 10\n"
          ]
        }
      ]
    }
  ]
}